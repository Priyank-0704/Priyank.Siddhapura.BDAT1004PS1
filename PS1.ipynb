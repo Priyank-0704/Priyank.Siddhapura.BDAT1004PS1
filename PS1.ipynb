{
 "cells": [
  {
   "cell_type": "markdown",
   "id": "8313fe71",
   "metadata": {},
   "source": [
    "# Question 1\n",
    "\n",
    "The data type are as follow:"
   ]
  },
  {
   "cell_type": "code",
   "execution_count": 1,
   "id": "111cb22a",
   "metadata": {},
   "outputs": [
    {
     "name": "stdout",
     "output_type": "stream",
     "text": [
      "<class 'int'>\n",
      "<class 'float'>\n",
      "<class 'bool'>\n",
      "<class 'str'>\n",
      "10\n",
      "<class 'int'>\n",
      "55\n",
      "<class 'str'>\n",
      "52\n",
      "<class 'str'>\n",
      "2.5\n",
      "<class 'float'>\n",
      "1\n",
      "<class 'int'>\n",
      "<class 'set'>\n",
      "<class 'bool'>\n",
      "<class 'float'>\n"
     ]
    }
   ],
   "source": [
    "import math\n",
    "\n",
    "print(type(5))\n",
    "print(type(5.0))\n",
    "print(type(5 > 1))\n",
    "print(type('5'))\n",
    "print(5 * 2)             # Evaluating int 5 and 2\n",
    "print(type(5 * 2))\n",
    "print('5' * 2)           # Multipling string '5' 2 times\n",
    "print(type('5' * 2))\n",
    "print('5' + '2')         # Adding 2 strings\n",
    "print(type('5' + '2'))\n",
    "print(5 / 2)             # Dividing int 5 with 2\n",
    "print(type(5 / 2))\n",
    "print(5 % 2)             # finding remainder of 5 when it is divided with 2\n",
    "print(type(5 % 2))\n",
    "print(type({5, 2, 1}))\n",
    "print(type(5 == 3))\n",
    "print(type(math.pi))"
   ]
  },
  {
   "cell_type": "markdown",
   "id": "c4612113",
   "metadata": {},
   "source": [
    "# Question 2\n",
    "\n",
    "Write (and evaluate) python expressions that answer these questions:\n"
   ]
  },
  {
   "cell_type": "markdown",
   "id": "52dc78af",
   "metadata": {},
   "source": [
    "a. How many letters are there in 'Supercalifragilisticexpialidocious'?"
   ]
  },
  {
   "cell_type": "code",
   "execution_count": 2,
   "id": "a39e9dd2",
   "metadata": {},
   "outputs": [
    {
     "name": "stdout",
     "output_type": "stream",
     "text": [
      "34\n"
     ]
    }
   ],
   "source": [
    "String = 'Supercalifragilisticexpialidocious'\n",
    "print(len(String))"
   ]
  },
  {
   "cell_type": "markdown",
   "id": "8f4db348",
   "metadata": {},
   "source": [
    "b. Does 'Supercalifragilisticexpialidocious' contain 'ice' as a substring? "
   ]
  },
  {
   "cell_type": "code",
   "execution_count": 3,
   "id": "cad0e8d7",
   "metadata": {},
   "outputs": [
    {
     "name": "stdout",
     "output_type": "stream",
     "text": [
      "True\n"
     ]
    }
   ],
   "source": [
    "print('ice' in String)"
   ]
  },
  {
   "cell_type": "markdown",
   "id": "c12c4adb",
   "metadata": {},
   "source": [
    "c. Which of the following words is the longest: \n",
    "   Supercalifragilisticexpialidocious, Honorificabilitudinitatibus, or \n",
    "   Bababadalgharaghtakamminarronnkonn? "
   ]
  },
  {
   "cell_type": "code",
   "execution_count": 4,
   "id": "0c66e7fa",
   "metadata": {},
   "outputs": [
    {
     "name": "stdout",
     "output_type": "stream",
     "text": [
      "Supercalifragilisticexpialidocious\n",
      "Bababadalgharaghtakamminarronnkonn\n"
     ]
    }
   ],
   "source": [
    "List = ['Supercalifragilisticexpialidocious','Honorificabilitudinitatibus','Bababadalgharaghtakamminarronnkonn'] \n",
    "List_1 = []\n",
    "y = 0\n",
    "for i in List:      # loop iterartes through List that we provide as an input\n",
    "    x = len(i)\n",
    "    List_1.append(x)\n",
    "    \n",
    "Longest_word = max(List_1)\n",
    "for word in List:\n",
    "    if len(word) == Longest_word:\n",
    "        print(word)\n"
   ]
  },
  {
   "cell_type": "markdown",
   "id": "308e1ea7",
   "metadata": {},
   "source": [
    "d. Which composer comes first in the dictionary: 'Berlioz', 'Borodin', 'Brian', \n",
    "   'Bartok', 'Bellini', 'Buxtehude', 'Bernstein'. Which one comes last?"
   ]
  },
  {
   "cell_type": "code",
   "execution_count": 5,
   "id": "725ff072",
   "metadata": {},
   "outputs": [
    {
     "name": "stdout",
     "output_type": "stream",
     "text": [
      "Your shorted list is:  ['Bartok', 'Bellini', 'Berlioz', 'Bernstein', 'Borodin', 'Brian', 'Buxtehude']\n"
     ]
    }
   ],
   "source": [
    "composer = ['Berlioz', 'Borodin', 'Brian','Bartok', 'Bellini', 'Buxtehude', 'Bernstein']\n",
    "composer.sort()\n",
    "print(\"Your shorted list is: \", composer )"
   ]
  },
  {
   "cell_type": "markdown",
   "id": "1f9bc492",
   "metadata": {},
   "source": [
    "# Question 3\n",
    "\n",
    "Implement function triangleArea(a,b,c) that takes as input the lengths of the 3\n",
    "sides of a triangle and returns the area of the triangle using Heron's formula"
   ]
  },
  {
   "cell_type": "code",
   "execution_count": 6,
   "id": "02919467",
   "metadata": {},
   "outputs": [
    {
     "data": {
      "text/plain": [
       "1.7320508075688772"
      ]
     },
     "execution_count": 6,
     "metadata": {},
     "output_type": "execute_result"
    }
   ],
   "source": [
    "def triangleArea(a,b,c):\n",
    "    s = (a+b+c) / 2\n",
    "    Area = math.sqrt(s * (s - a) * (s - b) * (s - c))\n",
    "    return Area\n",
    "\n",
    "triangleArea(2,2,2)"
   ]
  },
  {
   "cell_type": "markdown",
   "id": "9b17f6f8",
   "metadata": {},
   "source": [
    "# Question 4\n",
    "\n",
    "Write a program in python to separate odd and even integers in separate arrays."
   ]
  },
  {
   "cell_type": "code",
   "execution_count": 7,
   "id": "51e59cc3",
   "metadata": {},
   "outputs": [
    {
     "name": "stdout",
     "output_type": "stream",
     "text": [
      "Enter the number of element store in array:5\n",
      "Enter 5 element in array\n",
      "Enter the element1\n",
      "Enter the element2\n",
      "Enter the element3\n",
      "Enter the element4\n",
      "Enter the element5\n",
      "your array before sorting looks like [1, 2, 3, 4, 5]\n",
      "The even elements are: [2, 4]\n",
      "The odd elements are: [1, 3, 5]\n"
     ]
    }
   ],
   "source": [
    "Test_data = input('Enter the number of element store in array:')\n",
    "print ('Enter', Test_data, 'element in array')\n",
    "New_list = []                                                     # creating new list to store user input value\n",
    "for i in range (int(Test_data)):                                  # This loop will iterate for n times that user input in first step by converting string to integer\n",
    "    value = input('Enter the element')\n",
    "    New_list.append(int(value))                                   # It will appened entered value to assigned list\n",
    "\n",
    "print('your array before sorting looks like', New_list)\n",
    "Odd_Number = []                                                   # Creating empty list to store odd number\n",
    "Even_Number = []                                                  # Creating empty list to store even number\n",
    "for number in New_list:                                           # loop iterates through the array of list that user have inputed\n",
    "    if number % 2 == 0:                                           # condition is checking if remainder is 0 by dividing number with 2.\n",
    "        Even_Number.append(number)\n",
    "    else:\n",
    "        Odd_Number.append(number)\n",
    "        \n",
    "print('The even elements are:', Even_Number)\n",
    "print('The odd elements are:', Odd_Number)"
   ]
  },
  {
   "cell_type": "markdown",
   "id": "eb088e82",
   "metadata": {},
   "source": [
    "# Question 5\n",
    "\n",
    "a. Write a function inside(x,y,x1,y1,x2,y2) that returns True or False \n",
    "depending on whether the point (x,y) lies in the rectangle with lower left \n",
    "corner (x1,y1) and upper right corner (x2,y2)."
   ]
  },
  {
   "cell_type": "code",
   "execution_count": 8,
   "id": "4667fe20",
   "metadata": {},
   "outputs": [
    {
     "name": "stdout",
     "output_type": "stream",
     "text": [
      "False\n",
      "True\n"
     ]
    }
   ],
   "source": [
    "def inside(x,y,x1,y1,x2,y2):\n",
    "    return (x >= x1 and x <= x2 and y >= y1 and y <= y2)  # returing true or false using Boolean operator\n",
    "\n",
    "print(inside(-1,-1,0,0,2,3))\n",
    "print(inside(1,1,0,0,2,3))"
   ]
  },
  {
   "cell_type": "markdown",
   "id": "f5dc0926",
   "metadata": {},
   "source": [
    "b. Use function inside() from part a. to write an expression that tests whether \n",
    "  the point (1,1) lies in both of the following rectangles: one with lower left \n",
    "  corner (0.3, 0.5) and upper right corner (1.1, 0.7) and the other with lower \n",
    "  left corner (0.5, 0.2) and upper right corner (1.1, 2)."
   ]
  },
  {
   "cell_type": "code",
   "execution_count": 9,
   "id": "409bac3a",
   "metadata": {},
   "outputs": [
    {
     "name": "stdout",
     "output_type": "stream",
     "text": [
      "True\n"
     ]
    }
   ],
   "source": [
    "def inside1(x,y,x1,y1,x2,y2,x3,y3,x4,y4):\n",
    "    return ((x >= x1 and x <= x2 and y >= y1 and y <= y2) and (x >= x3 and x <= x4 and y >= y3 and y <= y4))\n",
    "\n",
    "print(inside1(1,1,0,0,2,3,0.1,0.1,2.1,3.1))"
   ]
  },
  {
   "cell_type": "markdown",
   "id": "ead2b79d",
   "metadata": {},
   "source": [
    "# Question 6\n",
    "\n",
    "Write a function pig() that takes a word (i.e., a string) as input and returns its pig Latin form."
   ]
  },
  {
   "cell_type": "code",
   "execution_count": 10,
   "id": "2fe5ed37",
   "metadata": {},
   "outputs": [
    {
     "name": "stdout",
     "output_type": "stream",
     "text": [
      "enterway\n"
     ]
    }
   ],
   "source": [
    "def pig(word):\n",
    "    words = \"\"\n",
    "    for i in range(1):                                  #  loop iterates 1 time with i value = 0 \n",
    "        if word[i].lower() in {\"a\",\"e\",\"i\",\"o\",\"u\"}:    # condition is checking if 0 element of string contains any vowel letter\n",
    "            words = word + \"way\"\n",
    "        else:\n",
    "            words = word[i+1:] + word[i] + \"ay\"\n",
    "    print(words.lower())        \n",
    "pig(\"Enter\")"
   ]
  },
  {
   "cell_type": "markdown",
   "id": "692f0a82",
   "metadata": {},
   "source": [
    "# Question 7\n",
    "\n",
    "File bloodtype1.txt records blood-types of patients (A, B, AB, O or OO) at a clinic. \n",
    "Write a function bldcount() that reads the file with name name and reports (i.e., \n",
    "prints) how many patients there are in each bloodtype."
   ]
  },
  {
   "cell_type": "code",
   "execution_count": 11,
   "id": "7714e33d",
   "metadata": {},
   "outputs": [],
   "source": [
    "def bldcount(filename):\n",
    "    File_name = open(filename)               # opening file that user will input by calling function.\n",
    "    Blood_group = File_name.read()           # reading file and assosiating it with Blood_group object.\n",
    "    dictalph = {0:\"NONE\"}                    # Creating dictionary to store key value pair for futhure use.\n",
    "    A = Blood_group.split().count(\"A\")       # split method will create list and count method will count the entered argument.\n",
    "    B = Blood_group.split().count(\"B\")\n",
    "    AB = Blood_group.split().count(\"AB\")\n",
    "    O = Blood_group.split().count(\"O\")\n",
    "    OO = Blood_group.split().count(\"OO\")\n",
    "\n",
    "    print(f\"There are {A} patients of blood type A.\\nThere is {B} patient of blood type B.\\nThere are {AB} patients of blood type AB.\\nThere are {O} patients of blood type O.\\nThere are {OO} patients of blood type OO.\")"
   ]
  },
  {
   "cell_type": "code",
   "execution_count": 12,
   "id": "6dd0cb6b",
   "metadata": {},
   "outputs": [
    {
     "name": "stdout",
     "output_type": "stream",
     "text": [
      "There are 15 patients of blood type A.\n",
      "There is 1 patient of blood type B.\n",
      "There are 13 patients of blood type AB.\n",
      "There are 15 patients of blood type O.\n",
      "There are 0 patients of blood type OO.\n"
     ]
    }
   ],
   "source": [
    "bldcount(\"bloodtype1.txt\")"
   ]
  },
  {
   "cell_type": "markdown",
   "id": "be8b53d6",
   "metadata": {},
   "source": [
    "# Question 8\n",
    "\n",
    "Write a function curconv() that takes as input:\n",
    "1. a currency represented using a string (e.g., 'JPY' for the Japanese Yen or \n",
    "'EUR' for the Euro)\n",
    "2. an amount\n",
    "\n",
    "and then converts and returns the amount in US dollars."
   ]
  },
  {
   "cell_type": "code",
   "execution_count": 13,
   "id": "739245db",
   "metadata": {},
   "outputs": [],
   "source": [
    "def currency(country,value):\n",
    "    File_name = open(\"currencies.txt\")\n",
    "    cr = File_name.read().split(\"\\n\")\n",
    "    dct = {}\n",
    "    for i in cr:\n",
    "        i1 = i.split(\"\\t\")\n",
    "        dct[i1[0]]= i1[1]\n",
    "    print(f\"Your {value} {country.upper()} will be {float(dct[country.upper()])*value:.3f} USD\")\n",
    "    \n",
    "    "
   ]
  },
  {
   "cell_type": "code",
   "execution_count": 14,
   "id": "deb3d0eb",
   "metadata": {},
   "outputs": [
    {
     "name": "stdout",
     "output_type": "stream",
     "text": [
      "Enter the country\tinr\n",
      "Enter the amount\t100\n",
      "Your 100.0 INR will be 1.776 USD\n"
     ]
    }
   ],
   "source": [
    "currency(input(\"Enter the country\\t\"),float(input(\"Enter the amount\\t\")))"
   ]
  },
  {
   "cell_type": "markdown",
   "id": "28625fe6",
   "metadata": {},
   "source": [
    "# Question 9\n",
    "\n",
    "Each of the following will cause an exception (an error). Identify what type of \n",
    "exception each will cause"
   ]
  },
  {
   "cell_type": "code",
   "execution_count": null,
   "id": "7f5f9a8b",
   "metadata": {},
   "outputs": [],
   "source": [
    "print(6 + 'a')                      # error can be solved by enter both value either intiger or string\n",
    "\n",
    "lst = [1,2,3,4,5,6,7,8,9,10]        # out of range error can be solved by entering value in range\n",
    "print(lst[12])\n",
    "\n",
    "print(math.sqrt(-1.0))              # math domain error can be solved by entering positive integer value\n",
    " \n",
    "print(x)                            #  not defined error can be solved by defining variable\n",
    "\n",
    "file_open = open('bloodtype2.txt')  # No such file can be solved by correrting file name"
   ]
  },
  {
   "cell_type": "markdown",
   "id": "6e14a66b",
   "metadata": {},
   "source": [
    "# Question 10\n",
    "\n",
    "Write a function called frequencies()\n",
    "that takes a string as its only parameter, and returns a list of integers, showing the \n",
    "number of times each character appears in the text. Your function may ignore any \n",
    "characters that are not in letters."
   ]
  },
  {
   "cell_type": "code",
   "execution_count": 15,
   "id": "6c5e9878",
   "metadata": {},
   "outputs": [
    {
     "name": "stdout",
     "output_type": "stream",
     "text": [
      "[1, 1, 1, 3, 5, 1, 1, 2, 1, 0, 1, 0, 1, 2, 4, 0, 1, 2, 0, 2, 1, 0, 1, 1, 0, 0]\n"
     ]
    }
   ],
   "source": [
    "def frequencies(sentence):\n",
    "    freq = [0]*26                            # creating array of 26\n",
    "    for i in sentence:                       # loop iterating over the user input string \n",
    "        if i == \" \":                         # skiping the space so that we do not get error\n",
    "            continue\n",
    "        ascii_value = ord(i) - ord(\"a\")     \n",
    "        freq[ascii_value] += 1              # adding 1 to charachter's respective index value.\n",
    "    print(freq)\n",
    "        \n",
    "frequencies(\"he quick red fox got bored and went home\")        "
   ]
  }
 ],
 "metadata": {
  "kernelspec": {
   "display_name": "Python 3 (ipykernel)",
   "language": "python",
   "name": "python3"
  },
  "language_info": {
   "codemirror_mode": {
    "name": "ipython",
    "version": 3
   },
   "file_extension": ".py",
   "mimetype": "text/x-python",
   "name": "python",
   "nbconvert_exporter": "python",
   "pygments_lexer": "ipython3",
   "version": "3.11.4"
  }
 },
 "nbformat": 4,
 "nbformat_minor": 5
}
